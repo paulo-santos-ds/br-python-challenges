{
 "cells": [
  {
   "cell_type": "markdown",
   "metadata": {
    "colab_type": "text",
    "id": "view-in-github"
   },
   "source": [
    "![](https://i.imgur.com/YX6UATs.png)"
   ]
  },
  {
   "cell_type": "markdown",
   "metadata": {
    "colab_type": "text",
    "id": "SbLLE9q1eldC"
   },
   "source": [
    "### Desafio 1\n",
    "\n",
    "Escreva um programa em Python para contabilizar a quantidade de ocorrências de cada palavra."
   ]
  },
  {
   "cell_type": "code",
   "execution_count": 28,
   "metadata": {
    "colab": {},
    "colab_type": "code",
    "id": "WhtbdwFseldD"
   },
   "outputs": [],
   "source": [
    "palavras = [\n",
    "   'red', 'green', 'black', 'pink', 'black', 'white', 'black', 'eyes',\n",
    "   'white', 'black', 'orange', 'pink', 'pink', 'red', 'red', 'white', 'orange',\n",
    "   'white', \"black\", 'pink', 'green', 'green', 'pink', 'green', 'pink',\n",
    "   'white', 'orange', \"orange\", 'red'\n",
    "]\n",
    "\n",
    "\n",
    "# Seu código"
   ]
  },
  {
   "cell_type": "code",
   "execution_count": 29,
   "metadata": {
    "colab": {},
    "colab_type": "code",
    "id": "M58o1U9KfAxa"
   },
   "outputs": [],
   "source": [
    "resultado1 = palavras.count(\"red\")\n",
    "resultado2 = palavras.count(\"green\")\n",
    "resultado3 = palavras.count(\"black\")\n",
    "resultado4 = palavras.count(\"pink\")\n",
    "resultado5 = palavras.count(\"white\")\n",
    "resultado6 = palavras.count(\"eyes\")\n",
    "resultado7 = palavras.count(\"orange\")"
   ]
  },
  {
   "cell_type": "code",
   "execution_count": 30,
   "metadata": {},
   "outputs": [
    {
     "name": "stdout",
     "output_type": "stream",
     "text": [
      "a palavra red     aparece 4 vezes\n",
      "a palavra green   aparece 4 vezes\n",
      "a palavra black   aparece 5 vezes\n",
      "a palavra pink    aparece 6 vezes\n",
      "a palavra white   aparece 5 vezes\n",
      "a palavra eyes    aparece 1 vezes\n",
      "a palavra orange  aparece 4 vezes\n"
     ]
    }
   ],
   "source": [
    "\n",
    "print(\"a palavra red     aparece\",   resultado1, \"vezes\")\n",
    "print(\"a palavra green   aparece\",   resultado2, \"vezes\")\n",
    "print(\"a palavra black   aparece\",   resultado3, \"vezes\")\n",
    "print(\"a palavra pink    aparece\",   resultado4, \"vezes\")\n",
    "print(\"a palavra white   aparece\",   resultado5, \"vezes\")\n",
    "print(\"a palavra eyes    aparece\",   resultado6, \"vezes\")\n",
    "print(\"a palavra orange  aparece\",   resultado7, \"vezes\")"
   ]
  },
  {
   "cell_type": "code",
   "execution_count": null,
   "metadata": {},
   "outputs": [],
   "source": []
  }
 ],
 "metadata": {
  "anaconda-cloud": {},
  "colab": {
   "include_colab_link": true,
   "name": "Desafio 1.ipynb",
   "provenance": []
  },
  "kernelspec": {
   "display_name": "Python 3",
   "language": "python",
   "name": "python3"
  },
  "language_info": {
   "codemirror_mode": {
    "name": "ipython",
    "version": 3
   },
   "file_extension": ".py",
   "mimetype": "text/x-python",
   "name": "python",
   "nbconvert_exporter": "python",
   "pygments_lexer": "ipython3",
   "version": "3.7.3"
  }
 },
 "nbformat": 4,
 "nbformat_minor": 1
}
